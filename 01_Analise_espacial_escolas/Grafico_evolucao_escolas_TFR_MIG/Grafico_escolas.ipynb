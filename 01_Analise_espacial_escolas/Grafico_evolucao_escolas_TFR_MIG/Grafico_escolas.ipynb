{
 "cells": [
  {
   "cell_type": "code",
   "execution_count": 1,
   "metadata": {},
   "outputs": [],
   "source": [
    "import os\n",
    "import numpy as np\n",
    "import pandas as pd\n",
    "import matplotlib as plt\n",
    "import matplotlib.pyplot as plt\n",
    "import matplotlib.ticker as ticker\n",
    "import scipy.interpolate as interpolate\n"
   ]
  },
  {
   "cell_type": "code",
   "execution_count": 2,
   "metadata": {},
   "outputs": [],
   "source": [
    "os.chdir('C:/Users/jwolf/Documents/MEGA/03_Doutoramento/')"
   ]
  },
  {
   "cell_type": "code",
   "execution_count": 3,
   "metadata": {
    "scrolled": true
   },
   "outputs": [],
   "source": [
    "df_escolas_1CEB = pd.read_excel('06_Base de dados/Escolas_ alunos_1960_2014.xlsx',\n",
    "                                sheet_name='Evol_esolas_alunos_1CEB', )\n",
    "df_escolas_1CEB.index = df_escolas_1CEB.Year"
   ]
  },
  {
   "cell_type": "code",
   "execution_count": 4,
   "metadata": {},
   "outputs": [
    {
     "data": {
      "text/html": [
       "<div>\n",
       "<style scoped>\n",
       "    .dataframe tbody tr th:only-of-type {\n",
       "        vertical-align: middle;\n",
       "    }\n",
       "\n",
       "    .dataframe tbody tr th {\n",
       "        vertical-align: top;\n",
       "    }\n",
       "\n",
       "    .dataframe thead th {\n",
       "        text-align: right;\n",
       "    }\n",
       "</style>\n",
       "<table border=\"1\" class=\"dataframe\">\n",
       "  <thead>\n",
       "    <tr style=\"text-align: right;\">\n",
       "      <th></th>\n",
       "      <th>Year</th>\n",
       "      <th>Number_schools</th>\n",
       "      <th>Students_per_shool</th>\n",
       "      <th>Number_students</th>\n",
       "    </tr>\n",
       "    <tr>\n",
       "      <th>Year</th>\n",
       "      <th></th>\n",
       "      <th></th>\n",
       "      <th></th>\n",
       "      <th></th>\n",
       "    </tr>\n",
       "  </thead>\n",
       "  <tbody>\n",
       "    <tr>\n",
       "      <th>2015</th>\n",
       "      <td>2015</td>\n",
       "      <td>3832</td>\n",
       "      <td>109.119259</td>\n",
       "      <td>418145</td>\n",
       "    </tr>\n",
       "    <tr>\n",
       "      <th>2016</th>\n",
       "      <td>2016</td>\n",
       "      <td>3796</td>\n",
       "      <td>107.492360</td>\n",
       "      <td>408041</td>\n",
       "    </tr>\n",
       "    <tr>\n",
       "      <th>2017</th>\n",
       "      <td>2017</td>\n",
       "      <td>3692</td>\n",
       "      <td>109.428494</td>\n",
       "      <td>404010</td>\n",
       "    </tr>\n",
       "  </tbody>\n",
       "</table>\n",
       "</div>"
      ],
      "text/plain": [
       "      Year  Number_schools  Students_per_shool  Number_students\n",
       "Year                                                           \n",
       "2015  2015            3832          109.119259           418145\n",
       "2016  2016            3796          107.492360           408041\n",
       "2017  2017            3692          109.428494           404010"
      ]
     },
     "execution_count": 4,
     "metadata": {},
     "output_type": "execute_result"
    }
   ],
   "source": [
    "df_escolas_1CEB_1999_17 = df_escolas_1CEB.loc[1999:2017,]\n",
    "df_escolas_1CEB_1999_17.tail(3)"
   ]
  },
  {
   "cell_type": "code",
   "execution_count": 13,
   "metadata": {},
   "outputs": [
    {
     "name": "stderr",
     "output_type": "stream",
     "text": [
      "C:\\Users\\jwolf\\AppData\\Local\\conda\\conda\\envs\\pandas\\lib\\site-packages\\ipykernel_launcher.py:1: SettingWithCopyWarning: \n",
      "A value is trying to be set on a copy of a slice from a DataFrame.\n",
      "Try using .loc[row_indexer,col_indexer] = value instead\n",
      "\n",
      "See the caveats in the documentation: http://pandas.pydata.org/pandas-docs/stable/indexing.html#indexing-view-versus-copy\n",
      "  \"\"\"Entry point for launching an IPython kernel.\n",
      "C:\\Users\\jwolf\\AppData\\Local\\conda\\conda\\envs\\pandas\\lib\\site-packages\\ipykernel_launcher.py:2: SettingWithCopyWarning: \n",
      "A value is trying to be set on a copy of a slice from a DataFrame.\n",
      "Try using .loc[row_indexer,col_indexer] = value instead\n",
      "\n",
      "See the caveats in the documentation: http://pandas.pydata.org/pandas-docs/stable/indexing.html#indexing-view-versus-copy\n",
      "  \n",
      "C:\\Users\\jwolf\\AppData\\Local\\conda\\conda\\envs\\pandas\\lib\\site-packages\\ipykernel_launcher.py:3: SettingWithCopyWarning: \n",
      "A value is trying to be set on a copy of a slice from a DataFrame.\n",
      "Try using .loc[row_indexer,col_indexer] = value instead\n",
      "\n",
      "See the caveats in the documentation: http://pandas.pydata.org/pandas-docs/stable/indexing.html#indexing-view-versus-copy\n",
      "  This is separate from the ipykernel package so we can avoid doing imports until\n"
     ]
    },
    {
     "data": {
      "text/html": [
       "<div>\n",
       "<style scoped>\n",
       "    .dataframe tbody tr th:only-of-type {\n",
       "        vertical-align: middle;\n",
       "    }\n",
       "\n",
       "    .dataframe tbody tr th {\n",
       "        vertical-align: top;\n",
       "    }\n",
       "\n",
       "    .dataframe thead th {\n",
       "        text-align: right;\n",
       "    }\n",
       "</style>\n",
       "<table border=\"1\" class=\"dataframe\">\n",
       "  <thead>\n",
       "    <tr style=\"text-align: right;\">\n",
       "      <th></th>\n",
       "      <th>Year</th>\n",
       "      <th>Number_schools</th>\n",
       "      <th>Students_per_shool</th>\n",
       "      <th>Number_students</th>\n",
       "      <th>Number_students_index</th>\n",
       "      <th>Number_schools_index</th>\n",
       "      <th>Students_per_shool_index</th>\n",
       "    </tr>\n",
       "    <tr>\n",
       "      <th>Year</th>\n",
       "      <th></th>\n",
       "      <th></th>\n",
       "      <th></th>\n",
       "      <th></th>\n",
       "      <th></th>\n",
       "      <th></th>\n",
       "      <th></th>\n",
       "    </tr>\n",
       "  </thead>\n",
       "  <tbody>\n",
       "    <tr>\n",
       "      <th>1999</th>\n",
       "      <td>1999</td>\n",
       "      <td>9059</td>\n",
       "      <td>59.418589</td>\n",
       "      <td>538273</td>\n",
       "      <td>100.000000</td>\n",
       "      <td>100.000000</td>\n",
       "      <td>100.000000</td>\n",
       "    </tr>\n",
       "    <tr>\n",
       "      <th>2000</th>\n",
       "      <td>2000</td>\n",
       "      <td>9032</td>\n",
       "      <td>59.781112</td>\n",
       "      <td>539943</td>\n",
       "      <td>100.310251</td>\n",
       "      <td>99.701954</td>\n",
       "      <td>100.610116</td>\n",
       "    </tr>\n",
       "    <tr>\n",
       "      <th>2001</th>\n",
       "      <td>2001</td>\n",
       "      <td>8847</td>\n",
       "      <td>60.538035</td>\n",
       "      <td>535580</td>\n",
       "      <td>99.499696</td>\n",
       "      <td>97.659786</td>\n",
       "      <td>101.884000</td>\n",
       "    </tr>\n",
       "    <tr>\n",
       "      <th>2002</th>\n",
       "      <td>2002</td>\n",
       "      <td>8773</td>\n",
       "      <td>59.296820</td>\n",
       "      <td>520211</td>\n",
       "      <td>96.644454</td>\n",
       "      <td>96.842919</td>\n",
       "      <td>99.795065</td>\n",
       "    </tr>\n",
       "    <tr>\n",
       "      <th>2003</th>\n",
       "      <td>2003</td>\n",
       "      <td>8613</td>\n",
       "      <td>59.035412</td>\n",
       "      <td>508472</td>\n",
       "      <td>94.463590</td>\n",
       "      <td>95.076719</td>\n",
       "      <td>99.355122</td>\n",
       "    </tr>\n",
       "  </tbody>\n",
       "</table>\n",
       "</div>"
      ],
      "text/plain": [
       "      Year  Number_schools  Students_per_shool  Number_students  \\\n",
       "Year                                                              \n",
       "1999  1999            9059           59.418589           538273   \n",
       "2000  2000            9032           59.781112           539943   \n",
       "2001  2001            8847           60.538035           535580   \n",
       "2002  2002            8773           59.296820           520211   \n",
       "2003  2003            8613           59.035412           508472   \n",
       "\n",
       "      Number_students_index  Number_schools_index  Students_per_shool_index  \n",
       "Year                                                                         \n",
       "1999             100.000000            100.000000                100.000000  \n",
       "2000             100.310251             99.701954                100.610116  \n",
       "2001              99.499696             97.659786                101.884000  \n",
       "2002              96.644454             96.842919                 99.795065  \n",
       "2003              94.463590             95.076719                 99.355122  "
      ]
     },
     "execution_count": 13,
     "metadata": {},
     "output_type": "execute_result"
    }
   ],
   "source": [
    "df_escolas_1CEB_1999_17['Number_students_index'] = df_escolas_1CEB_1999_17.Number_students/\\\n",
    "df_escolas_1CEB_1999_17.loc[1999, 'Number_students']*100\n",
    "df_escolas_1CEB_1999_17['Number_schools_index'] = df_escolas_1CEB_1999_17.Number_schools/\\\n",
    "df_escolas_1CEB_1999_17.loc[1999, 'Number_schools']*100\n",
    "df_escolas_1CEB_1999_17['Students_per_shool_index'] = df_escolas_1CEB_1999_17.Students_per_shool/\\\n",
    "df_escolas_1CEB_1999_17.loc[1999, 'Students_per_shool']*100\n",
    "\n",
    "df_escolas_1CEB_1999_17.head()\n"
   ]
  },
  {
   "cell_type": "code",
   "execution_count": 44,
   "metadata": {},
   "outputs": [
    {
     "data": {
      "image/png": "[encoded data removed]",
      "text/plain": [
       "<Figure size 576x432 with 1 Axes>"
      ]
     },
     "metadata": {},
     "output_type": "display_data"
    }
   ],
   "source": [
    "fig, ax = plt.subplots(1, figsize = [8,6] )\n",
    "ax.plot(df_escolas_1CEB.loc[1999:2017,'Number_students'], color = 'black',\n",
    "        alpha = 0.8, linewidth=1, marker = \"o\", markersize=6, markevery=1)\n",
    "ax.xaxis.set_major_locator(ticker.MultipleLocator(2))\n",
    "ax.set_xlim(left=1998, right=2018)\n",
    "\n",
    "plt.savefig('10_Questionários/Evolucao_alunos_1CEB.tif', dpi=230,  bbox_inches=\"tight\")"
   ]
  },
  {
   "cell_type": "code",
   "execution_count": 32,
   "metadata": {},
   "outputs": [
    {
     "data": {
      "image/png": "[encoded data removed]",
      "text/plain": [
       "<Figure size 576x432 with 1 Axes>"
      ]
     },
     "metadata": {},
     "output_type": "display_data"
    }
   ],
   "source": [
    "fig, ax = plt.subplots(1, figsize = [8,6])\n",
    "ax.plot(df_escolas_1CEB_1999_17.Number_students_index, color = 'black',\n",
    "        alpha = 0.7, linewidth=1, marker = \"o\", markersize=6, markevery=1)\n",
    "ax.plot(df_escolas_1CEB_1999_17.Number_schools_index, color = 'black',\n",
    "        alpha = 0.7, linewidth=1, marker = \"^\", markersize=7, markevery=1)\n",
    "ax.plot(df_escolas_1CEB_1999_17.Students_per_shool_index, color = 'black',\n",
    "        alpha = 0.7, linewidth=1, marker = \"s\", markersize=6, markevery=1)\n",
    "ax.plot([1999, 2017], [100, 100], color='grey', linestyle='-', linewidth=1, alpha = 0.8)\n",
    "ax.xaxis.set_major_locator(ticker.MultipleLocator(2))\n",
    "ax.tick_params(axis = 'both', labelsize = 13)\n",
    "#plt.ylim(bottom = 50) \n",
    "ax.set_xlabel('Ano', fontsize = 16)\n",
    "ax.set_ylabel('Número 1999 = 100', fontsize = 16)\n",
    "ax.yaxis.set_label_coords(-0.10, 0.5)\n",
    "ax.xaxis.set_label_coords(0.5, -0.12)\n",
    "ax.set_xlim(left=1999, right=2017)\n",
    "ax.set_ylim(bottom=0, top=200)\n",
    "\n",
    "plt.plot()\n",
    "plt.savefig('10_Questionários/Evolucao_alunos_index.tif', dpi=230,  bbox_inches=\"tight\")\n"
   ]
  },
  {
   "cell_type": "code",
   "execution_count": null,
   "metadata": {},
   "outputs": [],
   "source": []
  }
 ],
 "metadata": {
  "kernelspec": {
   "display_name": "Python 3",
   "language": "python",
   "name": "python3"
  },
  "language_info": {
   "codemirror_mode": {
    "name": "ipython",
    "version": 3
   },
   "file_extension": ".py",
   "mimetype": "text/x-python",
   "name": "python",
   "nbconvert_exporter": "python",
   "pygments_lexer": "ipython3",
   "version": "3.7.5"
  }
 },
 "nbformat": 4,
 "nbformat_minor": 2
}
