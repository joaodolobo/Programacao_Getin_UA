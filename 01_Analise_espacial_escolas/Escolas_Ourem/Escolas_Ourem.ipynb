{
 "cells": [
  {
   "cell_type": "code",
   "execution_count": 2,
   "metadata": {},
   "outputs": [],
   "source": [
    "import pandas as pd \n",
    "import numpy as np\n",
    "import geopandas as gpd\n",
    "from geopandas import GeoDataFrame\n",
    "import matplotlib.pyplot as plt\n",
    "import matplotlib.patches as mpatches\n",
    "from shapely.geometry import Point\n",
    "from shapely.geometry import Polygon"
   ]
  },
  {
   "cell_type": "code",
   "execution_count": 5,
   "metadata": {},
   "outputs": [],
   "source": [
    "gdf_escolas_Ourem2019 = gpd.read_file ('./00_Base_de_dados/Escolas_Ourem_shp/merge_escolas.shp')\n",
    "gdf_freguesias_CAOP2018 = gpd.read_file ('../../../01_Base_de_Dados/00_SIG/Administrativos/\\\n",
    "Freguesias/CAOP_2018/Freguesias_CAOP2018.shp')\n",
    "gdf_municipios_CAOP2018 = gpd.read_file ('../../../01_Base_de_Dados/00_SIG/Administrativos/\\\n",
    "Municípios/Municipios_CAOP2018.shp')\n",
    "gdf_escolas_Portugal = gpd.read_file('../../../01_Base_de_Dados/00_SIG/Localização_escolas/\\\n",
    "gdf_escolas_publicas_1CEB.shp')"
   ]
  },
  {
   "cell_type": "code",
   "execution_count": 6,
   "metadata": {},
   "outputs": [],
   "source": [
    "#define o municipio a ser utilizado\n",
    "municipio_selecionado = '1421' # Ourém = '1421'"
   ]
  },
  {
   "cell_type": "code",
   "execution_count": 8,
   "metadata": {},
   "outputs": [],
   "source": [
    "gdf_BGRI_2011 = gpd.read_file('../../../01_Base_de_Dados/00_SIG/BGRI/BGRI_2011/\\\n",
    "CONTINENTE/BGRI11_CONT.shp')\n",
    "gdf_BGRI_2011_municipio = gdf_BGRI_2011[gdf_BGRI_2011['DTMN11']==municipio_selecionado]\n",
    "#gdf_BGRI_2011_Ourem.to_file(\"11_Pogramação/Escolas_Ourem/BGRI_2011/gdf_BGRI_2011_Ourem.shp\")\n",
    "#gdf_BGRI_2011_Ourem = gpd.read_file(\"11_Pogramação/Analise_espacial_escolas/Escolas_Ourem/BGRI_2011/\\\n",
    "#gdf_BGRI_2011_Ourem.shp\")"
   ]
  },
  {
   "cell_type": "code",
   "execution_count": 10,
   "metadata": {},
   "outputs": [],
   "source": [
    "df_correspond_nuts3 = pd.read_csv(\"../../../01_Base_de_Dados/CODIGOS_MUNICIPIOS_NUTS3.csv\",\n",
    "        engine='python', delimiter= \",\", dtype= {'code_mun': str})"
   ]
  },
  {
   "cell_type": "code",
   "execution_count": 11,
   "metadata": {
    "scrolled": true
   },
   "outputs": [],
   "source": [
    "gdf_municipios_CAOP2018=gdf_municipios_CAOP2018.loc[:,'NUTS_nome':'geometry']"
   ]
  },
  {
   "cell_type": "code",
   "execution_count": 12,
   "metadata": {},
   "outputs": [],
   "source": [
    "gdf_municipios_CAOP2018 = gdf_municipios_CAOP2018.merge(df_correspond_nuts3, left_on = 'code_mun', \n",
    "                              right_on = 'code_mun')"
   ]
  },
  {
   "cell_type": "code",
   "execution_count": 52,
   "metadata": {},
   "outputs": [],
   "source": [
    "gdf_municipio_sel_CAOP2018 = gdf_municipios_CAOP2018[gdf_municipios_CAOP2018.code_mun==municipio_selecionado]"
   ]
  },
  {
   "cell_type": "code",
   "execution_count": 13,
   "metadata": {},
   "outputs": [],
   "source": [
    "df_BGRI_2011_Grupo_etario = pd.read_csv(\"../../../01_Base_de_Dados/01_Demografia/População/BGRI_grupo etário/C2011_subsec_Grupo_Etario.csv\", delimiter= ',', \n",
    "dtype ={'MUNICIPIO': str, 'FREGUESIA': str, 'SECCAO': str, 'SUBSECCAO': str},\\\n",
    "engine  = 'python')"
   ]
  },
  {
   "cell_type": "code",
   "execution_count": 14,
   "metadata": {},
   "outputs": [],
   "source": [
    "df_BGRI_2011_Grupo_etario_Municipio = df_BGRI_2011_Grupo_etario[(df_BGRI_2011_Grupo_etario.MUNICIPIO==municipio_selecionado)\\\n",
    "                                                          & (df_BGRI_2011_Grupo_etario.SEXO == 0)]\n",
    "df_BGRI_2011_Grupo_etario_Municipio.index = df_BGRI_2011_Grupo_etario_Municipio.SUBSECCAO.values"
   ]
  },
  {
   "cell_type": "code",
   "execution_count": 20,
   "metadata": {},
   "outputs": [],
   "source": [
    "df_Pop_proj_2040_Freg = pd.read_excel('./00_Base_de_dados/Projecao_pop_escolar_2040_Freg.xlsx', sheet_name='Sheet1')\n",
    "df_Pop_proj_2040_Freg.index = (df_Pop_proj_2040_Freg['ID'].astype(str).values)"
   ]
  },
  {
   "cell_type": "code",
   "execution_count": 21,
   "metadata": {},
   "outputs": [],
   "source": [
    "# Ciclo \tAnos \tIdade\n",
    "# pré-escolar\t3\t03:05       1º \t4\t06:10\n",
    "# 2º \t2\t11:12               3º\t3\t13:15         secundario\t3\t15:18\n",
    "l_anos = {'Pre_escolar':{'0 - 4': 0.4,'5 - 9': 0.2},'1_CEB':{'5 - 9': 0.8},\\\n",
    "         '2_CEB': {'10 - 14': 0.4},'3_CEB': {'10 - 14': 0.6},\\\n",
    "          'Secundario': {'15 - 19': 0.6}}\n",
    "Tx_escol_2011 = {'Pre_escolar': 94.8, '1_CEB': 98.9, \\\n",
    "                 '2_CEB':120.0, '3_CEB':138.8, 'Secundario': 140.}\n",
    "Tx_escol_2040 = {'Pre_escolar': 102.3, '1_CEB': 104.6, \\\n",
    "                 '2_CEB':125.2, '3_CEB':133.7, 'Secundario': 147.9}\n",
    "l = []\n",
    "for e in l_anos:\n",
    "    c = pd.Series (data = 0, index = df_BGRI_2011_Grupo_etario_Municipio.index)\n",
    "    for i in l_anos[e].keys():\n",
    "        c += df_BGRI_2011_Grupo_etario_Municipio[i]*l_anos[e][i]        \n",
    "    l.append({e: c})\n",
    "\n",
    "df_alunos_subseccao = pd.DataFrame(index = df_BGRI_2011_Grupo_etario_Municipio.index)\n",
    "for i in l:\n",
    "    df_temp = pd.DataFrame(i)\n",
    "    df_alunos_subseccao = df_alunos_subseccao.join(df_temp) \n",
    "\n",
    "df_alunos_subseccao['Code_Freg'] = df_alunos_subseccao.index.str.slice(0,6)\n",
    "\n",
    "for column_names, column_values in df_alunos_subseccao.iloc[:,0:-1].iteritems(): \n",
    "    df_alunos_subseccao[column_names + '_percent'] = (column_values/\\\n",
    "    df_alunos_subseccao.groupby('Code_Freg')[column_names].transform('sum'))"
   ]
  },
  {
   "cell_type": "code",
   "execution_count": 22,
   "metadata": {},
   "outputs": [],
   "source": [
    "for columns, values in df_Pop_proj_2040_Freg.loc[:,'Pre_escolar':'Secundario'].iteritems(): \n",
    "    df_Pop_proj_2040_Freg[columns + '_Alunos_2040'] = Tx_escol_2040[columns]/100*values"
   ]
  },
  {
   "cell_type": "code",
   "execution_count": 23,
   "metadata": {
    "scrolled": false
   },
   "outputs": [],
   "source": [
    "df_temp = pd.DataFrame(df_alunos_subseccao['Code_Freg'])\n",
    "df_temp = df_temp.merge(df_Pop_proj_2040_Freg, right_index=True, left_on='Code_Freg')"
   ]
  },
  {
   "cell_type": "code",
   "execution_count": 24,
   "metadata": {},
   "outputs": [],
   "source": [
    "l = df_temp.loc[:,'Pre_escolar':'Secundario'].columns\n",
    "i = 0\n",
    "for dfcolumns, dfvalues in df_alunos_subseccao.loc[:,'Pre_escolar_percent':'Secundario_percent'].iteritems():\n",
    "    df_alunos_subseccao[l[i] + '_Proj_2040'] = dfvalues*df_temp[l[i]] * Tx_escol_2040[l[i]]/100\n",
    "    df_alunos_subseccao[l[i]] =  df_alunos_subseccao[l[i]]* Tx_escol_2011[l[i]]/100\n",
    "    i+=1"
   ]
  },
  {
   "cell_type": "code",
   "execution_count": 25,
   "metadata": {},
   "outputs": [],
   "source": [
    "d = {}\n",
    "for i in df_alunos_subseccao.columns[0:5]: \n",
    "    d[i] = i+'_2011'\n",
    "df_alunos_subseccao.rename(columns=d, inplace=True)"
   ]
  },
  {
   "cell_type": "code",
   "execution_count": 26,
   "metadata": {},
   "outputs": [],
   "source": [
    "df_escolas_ourem_2019_capacidade = pd.read_excel('./00_Base_de_dados/table_merge_escolas_Jan_20_11.xls',\\\n",
    "                                 sheet_name='Capacidade')\n",
    "df_escolas_ourem_2019_alunos = pd.read_excel('./00_Base_de_dados/table_merge_escolas_Jan_20_11.xls',\\\n",
    "                                 sheet_name='Alunos')\n",
    "\n",
    "gdf_escolas_Ourem2019_elegiveis = pd.merge(gdf_escolas_Ourem2019, df_escolas_ourem_2019_capacidade, how='left', left_index = True, \\\n",
    "                                       right_index = True).copy()\n",
    "gdf_escolas_Ourem2019_elegiveis = pd.merge(gdf_escolas_Ourem2019_elegiveis, df_escolas_ourem_2019_alunos, how='left', left_index = True, \\\n",
    "                                       right_index = True).copy()"
   ]
  },
  {
   "cell_type": "code",
   "execution_count": 62,
   "metadata": {},
   "outputs": [],
   "source": [
    "gdf_escolas_Ourem2019_elegiveis= gdf_escolas_Ourem2019_elegiveis[gdf_escolas_Ourem2019_elegiveis['Elegiveis_x']==1]"
   ]
  },
  {
   "cell_type": "code",
   "execution_count": 63,
   "metadata": {},
   "outputs": [],
   "source": [
    "for columns, values in gdf_escolas_Ourem2019_elegiveis.loc[:, 'Salas_Pre_esc':'Salas_Sec'].iteritems():\n",
    "    if columns== 'Salas_Pre_esc':\n",
    "        gdf_escolas_Ourem2019_elegiveis ['Capacidade_max' + columns[5:]] = values * 24\n",
    "    else: \n",
    "        gdf_escolas_Ourem2019_elegiveis ['Capacidade_max' + columns[5:]] = values * 28"
   ]
  },
  {
   "cell_type": "code",
   "execution_count": 22,
   "metadata": {},
   "outputs": [],
   "source": [
    "# gdf_escolas_Ourem2019_elegiveis.to_file(\"11_Pogramação/Analise_espacial_escolas/Escolas_Ourem/\\\n",
    "# gdf_escolas_Ourem2019_capacidades_alunos.shp\")"
   ]
  },
  {
   "cell_type": "code",
   "execution_count": 27,
   "metadata": {},
   "outputs": [],
   "source": [
    "#gdf_COS_2015 = gpd.read_file('../../../03_Doutoramento/05_SIG/Solo/COS2015-V1-PT16B\\\n",
    "#/COS2015-V1-PT16I_Medio_Tejo.shp')\n",
    "gdf_COS_2015 = gpd.read_file('../../../01_Base_de_Dados/00_SIG/\\\n",
    "Ocupacao_Uso_Solo/COS2015-V1-PT16B/COS2015-V1-PT16D_Regiao_Aveiro.shp')\n",
    "                             \n",
    "#gdf_COS_2015.head(2)"
   ]
  },
  {
   "cell_type": "code",
   "execution_count": 28,
   "metadata": {},
   "outputs": [
    {
     "data": {
      "text/plain": [
       "array(['Territórios artificializados', 'Agricultura', 'Pastagens',\n",
       "       'Sistemas agro-florestais', 'Florestas', 'Matos',\n",
       "       'Espaços descobertos ou com vegetação esparsa', 'Zonas húmidas',\n",
       "       'Corpos de água'], dtype=object)"
      ]
     },
     "execution_count": 28,
     "metadata": {},
     "output_type": "execute_result"
    }
   ],
   "source": [
    "gdf_COS_2015['Megaclasse'].unique()"
   ]
  },
  {
   "cell_type": "code",
   "execution_count": 67,
   "metadata": {
    "scrolled": true
   },
   "outputs": [
    {
     "name": "stderr",
     "output_type": "stream",
     "text": [
      "C:\\ProgramData\\Anaconda3\\envs\\pandas\\lib\\site-packages\\geopandas\\base.py:29: UserWarning: GeoSeries crs mismatch: {'proj': 'tmerc', 'lat_0': 39.66825833333333, 'lon_0': -8.133108333333334, 'k': 1, 'x_0': 0, 'y_0': 0, 'ellps': 'GRS80', 'units': 'm', 'no_defs': True} and {'proj': 'tmerc', 'lat_0': 39.6682583333333, 'lon_0': -8.13310833333333, 'k': 1, 'x_0': 0, 'y_0': 0, 'ellps': 'GRS80', 'units': 'm', 'no_defs': True}\n",
      "  other.crs))\n"
     ]
    }
   ],
   "source": [
    "gpd_COS_municipio = gpd.overlay(gdf_municipio_sel_CAOP2018, gdf_COS_2015, how='intersection')"
   ]
  },
  {
   "cell_type": "code",
   "execution_count": 29,
   "metadata": {},
   "outputs": [],
   "source": [
    "#recebe RGB em dicionários de float e devolve o hexadecimal correspondente\n",
    "def rgb_to_hex (diccionario_cores): \n",
    "    dict_novo = {}\n",
    "    for nome in diccionario_cores:\n",
    "        dict_novo [nome] = '#%02x%02x%02x'%tuple(int(i * 255) for i in diccionario_cores[nome])\n",
    "    return(dict_novo)\n",
    "#define RGB para cada tipo de ocupação de solo \n",
    "colors_cos = {'Territórios artificializados': (0.8, 0, 0),\n",
    "              'Agricultura': (0.9, 0.7, 0.03), \n",
    "              'Pastagens': (0.96, 0.93, 0.03),\n",
    "              'Sistemas agro-florestais': (0.85, 0.6, 0),\n",
    "              'Florestas': (0, 0.5, 0), \n",
    "              'Matos': (0, 0.7, 0),\n",
    "              'Espaços descobertos ou com vegetação esparsa': (0.9, 0.9, 0.5),\n",
    "              'Zonas húmidas': (0.9, 0.9, 0.5), \n",
    "              'Corpos de água': (0.3, 0.6, 1)}\n",
    "colors_cos_hexa = rgb_to_hex(colors_cos)"
   ]
  },
  {
   "cell_type": "code",
   "execution_count": 32,
   "metadata": {},
   "outputs": [],
   "source": [
    "gdf_open_street2019 = gpd.read_file('../../../01_Base_de_Dados/00_SIG/Open_street_maps/gis_osm_roads_free_1.shp')"
   ]
  },
  {
   "cell_type": "code",
   "execution_count": 28,
   "metadata": {},
   "outputs": [],
   "source": [
    "# sistema de coordenada de Portugal epsg=3763\n",
    "# sistema de coordenada do OpenStreet maps epsg=4326\n",
    "# gdf_municipio_sel_CAOP2018.sindex\n",
    "# gdf_municipio_sel_CAOP2018.crs"
   ]
  },
  {
   "cell_type": "code",
   "execution_count": 33,
   "metadata": {},
   "outputs": [
    {
     "ename": "NameError",
     "evalue": "name 'gdf_municipio_sel_CAOP2018' is not defined",
     "output_type": "error",
     "traceback": [
      "\u001b[1;31m---------------------------------------------------------------------------\u001b[0m",
      "\u001b[1;31mNameError\u001b[0m                                 Traceback (most recent call last)",
      "\u001b[1;32m<ipython-input-33-cf351bf93235>\u001b[0m in \u001b[0;36m<module>\u001b[1;34m\u001b[0m\n\u001b[0;32m      1\u001b[0m \u001b[0mgdf_open_street2019\u001b[0m \u001b[1;33m=\u001b[0m \u001b[0mgdf_open_street2019\u001b[0m\u001b[1;33m.\u001b[0m\u001b[0mto_crs\u001b[0m\u001b[1;33m(\u001b[0m\u001b[0mepsg\u001b[0m\u001b[1;33m=\u001b[0m\u001b[1;36m3763\u001b[0m\u001b[1;33m)\u001b[0m\u001b[1;33m\u001b[0m\u001b[1;33m\u001b[0m\u001b[0m\n\u001b[1;32m----> 2\u001b[1;33m \u001b[0mgdf_open_street2019_municipio\u001b[0m \u001b[1;33m=\u001b[0m \u001b[0mgpd\u001b[0m\u001b[1;33m.\u001b[0m\u001b[0msjoin\u001b[0m\u001b[1;33m(\u001b[0m\u001b[0mgdf_open_street2019\u001b[0m\u001b[1;33m,\u001b[0m \u001b[0mgdf_municipio_sel_CAOP2018\u001b[0m\u001b[1;33m,\u001b[0m \u001b[0mop\u001b[0m\u001b[1;33m=\u001b[0m \u001b[1;34m'within'\u001b[0m\u001b[1;33m)\u001b[0m\u001b[1;33m\u001b[0m\u001b[1;33m\u001b[0m\u001b[0m\n\u001b[0m",
      "\u001b[1;31mNameError\u001b[0m: name 'gdf_municipio_sel_CAOP2018' is not defined"
     ]
    }
   ],
   "source": [
    "gdf_open_street2019 = gdf_open_street2019.to_crs(epsg=3763)\n",
    "gdf_open_street2019_municipio = gpd.sjoin(gdf_open_street2019, gdf_municipio_sel_CAOP2018, op= 'within')"
   ]
  },
  {
   "cell_type": "code",
   "execution_count": null,
   "metadata": {},
   "outputs": [],
   "source": [
    "# array(['motorway_link', 'primary', 'secondary', 'residential', 'motorway',\n",
    "#        'unclassified', 'tertiary', 'service', 'path', 'pedestrian',\n",
    "#        'footway', 'track', 'secondary_link', 'tertiary_link',\n",
    "#        'track_grade1', 'steps', 'cycleway', 'track_grade2',\n",
    "#        'primary_link', 'trunk', 'trunk_link', 'track_grade3',\n",
    "#        'track_grade4', 'track_grade5'], dtype=object)\n",
    "\n",
    "motorway = ['motorway', 'motorway_link']\n",
    "primary = ['primary', 'trunk', 'secondary']\n",
    "n_mapear = ['cycleway', 'steps', 'track','track_grade1','track_grade2',\n",
    "            'track_grade3','track_grade4','track_grade5','pedestrian',\n",
    "            'footway', 'unclassified','path']\n",
    "\n",
    "dict_temp = {}\n",
    "for nome in gdf_open_street2019_municipio.fclass.unique(): \n",
    "    if nome in motorway:\n",
    "        dict_temp [nome] = list((0.4,6))\n",
    "    elif nome in primary: \n",
    "        dict_temp [nome] = list((0.3,4))\n",
    "    elif nome in n_mapear:\n",
    "        dict_temp [nome] = list((0.2,1))\n",
    "    else: \n",
    "        dict_temp [nome] = list((0.3,2))\n",
    "\n",
    "# l=[]\n",
    "# l2=[]\n",
    "# for i, class_estrada in gdf_open_street2019_municipio.fclass.iteritems(): \n",
    "#     l.append(dict_temp[class_estrada][0])\n",
    "#     l2.append(dict_temp[class_estrada][1])\n",
    "# gdf_open_street2019_municipio['alpha'] = l\n",
    "# gdf_open_street2019_municipio['linewidth'] = l2"
   ]
  },
  {
   "cell_type": "code",
   "execution_count": 31,
   "metadata": {},
   "outputs": [],
   "source": [
    "# gpd_COS_municipio.to_file(\"C:/Users/jwolf/Documents/MEGA/11_Pogramação/Escolas_Ourem/\\\n",
    "# {0}.shp\".format('gpd_COS_Ourem'))\n",
    "# gdf_open_street2019_municipio.to_file(\"C:/Users/jwolf/Documents/MEGA/11_Pogramação/Escolas_Ourem/\\\n",
    "# {0}.shp\".format('gdf_open_street2019_Ourem'))\n",
    "# gdf_freguesias_CAOP2018.to_file(\"C:/Users/jwolf/Documents/MEGA/11_Pogramação/Escolas_Ourem/\\\n",
    "# {0}.shp\".format('gdf_Freguesias_CAOP2018_Ourem'))"
   ]
  },
  {
   "cell_type": "code",
   "execution_count": null,
   "metadata": {},
   "outputs": [],
   "source": [
    "fig, ax = plt.subplots(figsize=(10, 10))\n",
    "\n",
    "Ciclo_de_ensino = 'Capacidade_max_1CEB'\n",
    "#'Capacidade_max_Pre_esc', 'Capacidade_max_1CEB', 'Capacidade_max_2CEB',\n",
    "#'Capacidade_max_3CEB', 'Capacidade_max_Sec\n",
    "\n",
    "#Plota os limites das freguesias \n",
    "gdf_freguesias_CAOP2018[gdf_freguesias_CAOP2018.code_mun==municipio_selecionado].plot(ax=ax,\n",
    "                        facecolor='None', edgecolor='black', linewidth=0.4, zorder=10)\n",
    "\n",
    "#Plota ocupação e uso de solo por categoria, em função do esquema de cores definido em colors_cos_hexa\n",
    "for categoria, data in gpd_COS_municipio.groupby('Megaclasse'):\n",
    "    # Define the color for each group using the dictionary\n",
    "    color = colors_cos_hexa[categoria]\n",
    "    # Plot each group using the color defined above\n",
    "    data.plot(color=color, ax=ax, alpha=0.1)\n",
    "\n",
    "#Plota a rede de estradas, em função da linewidths e alphas definido em dict_temp \n",
    "for ctype, data in gdf_open_street2019_municipio.groupby('fclass'):\n",
    "    alpha = dict_temp[ctype][0]\n",
    "    linewidth = dict_temp[ctype][0]\n",
    "    data.plot(color = 'black', ax=ax, label=ctype, alpha=alpha, \n",
    "              linewidth=linewidth)\n",
    "\n",
    "# #Plota as escolas, precisando-se de definir o ciclo de ensino \n",
    "# gdf_escolas_Ourem2019_elegiveis[gdf_escolas_Ourem2019_elegiveis[Ciclo_de_ensino]>0].plot(ax=ax, \n",
    "#                         color = \"black\", markersize = 20, alpha = 0.8, label='poly')\n",
    "\n",
    "ax.set_axis_off()\n",
    "plt.show()"
   ]
  },
  {
   "cell_type": "code",
   "execution_count": 33,
   "metadata": {},
   "outputs": [],
   "source": [
    "gdf_escolas_Ourem2019_elegiveis['Capacidade_max_23CEB'] =\\\n",
    "gdf_escolas_Ourem2019_elegiveis['Capacidade_max_2CEB']+gdf_escolas_Ourem2019_elegiveis['Capacidade_max_3CEB']"
   ]
  }
 ],
 "metadata": {
  "kernelspec": {
   "display_name": "Python 3",
   "language": "python",
   "name": "python3"
  },
  "language_info": {
   "codemirror_mode": {
    "name": "ipython",
    "version": 3
   },
   "file_extension": ".py",
   "mimetype": "text/x-python",
   "name": "python",
   "nbconvert_exporter": "python",
   "pygments_lexer": "ipython3",
   "version": "3.6.9"
  }
 },
 "nbformat": 4,
 "nbformat_minor": 2
}
